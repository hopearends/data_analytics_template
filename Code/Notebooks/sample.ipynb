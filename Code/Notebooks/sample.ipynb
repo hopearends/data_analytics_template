{
 "cells": [
  {
   "cell_type": "markdown",
   "id": "84ef831b-f1d6-4a55-9ffc-463cc350c570",
   "metadata": {},
   "source": [
    "# Project Name\n",
    "\n",
    "### Author Name | Date\n",
    "\n",
    "#### Description of the Project. In a short paragraph explain what the projects goal is. \n",
    "\n",
    "#### Date Last Modified: November 13, 2024\n",
    "#### Date Created: November 13, 2024"
   ]
  },
  {
   "cell_type": "code",
   "execution_count": null,
   "id": "92925be0-8522-46f6-9c49-683b1aa50dd6",
   "metadata": {},
   "outputs": [],
   "source": [
    "# load in needed libraires\n",
    "\n",
    "import pandas as pd\n",
    "import numpy as np"
   ]
  },
  {
   "cell_type": "code",
   "execution_count": null,
   "id": "0cecb3bd-c231-4d1b-8a7d-bddd47d06ef7",
   "metadata": {},
   "outputs": [],
   "source": [
    "# run code to read in a csv file\n",
    "\n",
    "df = pd.read_csv('file_name')"
   ]
  },
  {
   "cell_type": "code",
   "execution_count": null,
   "id": "bbd51898-1672-48ec-ab2e-01574c1bd737",
   "metadata": {},
   "outputs": [],
   "source": [
    "# save the file to a csv file\n",
    "\n",
    "df.to_csv('file_name')"
   ]
  }
 ],
 "metadata": {
  "kernelspec": {
   "display_name": "Python 3 (ipykernel)",
   "language": "python",
   "name": "python3"
  },
  "language_info": {
   "codemirror_mode": {
    "name": "ipython",
    "version": 3
   },
   "file_extension": ".py",
   "mimetype": "text/x-python",
   "name": "python",
   "nbconvert_exporter": "python",
   "pygments_lexer": "ipython3",
   "version": "3.12.4"
  }
 },
 "nbformat": 4,
 "nbformat_minor": 5
}
